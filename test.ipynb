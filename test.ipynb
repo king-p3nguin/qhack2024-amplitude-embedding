{
 "cells": [
  {
   "cell_type": "code",
   "execution_count": 1,
   "metadata": {},
   "outputs": [],
   "source": [
    "import numpy as np\n",
    "import pennylane as qml"
   ]
  },
  {
   "cell_type": "code",
   "execution_count": 2,
   "metadata": {},
   "outputs": [
    {
     "name": "stdout",
     "output_type": "stream",
     "text": [
      "num_qubits: 1 depth: 2\n",
      "num_qubits: 2 depth: 8\n",
      "num_qubits: 3 depth: 22\n",
      "num_qubits: 4 depth: 52\n",
      "num_qubits: 5 depth: 114\n",
      "num_qubits: 6 depth: 240\n",
      "num_qubits: 7 depth: 494\n",
      "num_qubits: 8 depth: 1004\n",
      "num_qubits: 9 depth: 2026\n",
      "num_qubits: 10 depth: 4072\n",
      "num_qubits: 11 depth: 8166\n"
     ]
    }
   ],
   "source": [
    "# Test the circuit\n",
    "\n",
    "for num_qubits in range(1, 12):\n",
    "    dev = qml.device(\"lightning.qubit\", wires=num_qubits)\n",
    "\n",
    "    state = np.random.rand(2**num_qubits) + 1j * np.random.rand(2**num_qubits)\n",
    "    state = state / np.linalg.norm(state)\n",
    "\n",
    "    @qml.qnode(dev, expansion_strategy=\"device\")\n",
    "    def circuit(state):\n",
    "        qml.MottonenStatePreparation(state, wires=range(num_qubits))\n",
    "        return qml.state()\n",
    "\n",
    "    res = circuit(state)\n",
    "\n",
    "    np.testing.assert_approx_equal(\n",
    "        np.abs(np.vdot(state, res)), 1.0\n",
    "    )  # If this fails, the state is not equal up to a global phase\n",
    "\n",
    "    specs_func = qml.specs(circuit)\n",
    "    print(\"num_qubits:\", num_qubits, \"depth:\", specs_func(state)[\"resources\"].depth)"
   ]
  },
  {
   "cell_type": "code",
   "execution_count": 3,
   "metadata": {},
   "outputs": [
    {
     "name": "stdout",
     "output_type": "stream",
     "text": [
      "num_qubits: 1 depth: 2\n",
      "num_qubits: 2 depth: 8\n",
      "num_qubits: 3 depth: 19\n",
      "num_qubits: 4 depth: 42\n",
      "num_qubits: 5 depth: 89\n",
      "num_qubits: 6 depth: 184\n",
      "num_qubits: 7 depth: 375\n",
      "num_qubits: 8 depth: 758\n",
      "num_qubits: 9 depth: 1525\n",
      "num_qubits: 10 depth: 3060\n",
      "num_qubits: 11 depth: 6131\n"
     ]
    }
   ],
   "source": [
    "import opt\n",
    "\n",
    "for num_qubits in range(1, 12):\n",
    "    dev = qml.device(\"lightning.qubit\", wires=num_qubits)\n",
    "\n",
    "    state = np.random.rand(2**num_qubits) + 1j * np.random.rand(2**num_qubits)\n",
    "    state = state / np.linalg.norm(state)\n",
    "\n",
    "    @qml.qnode(dev, expansion_strategy=\"device\")\n",
    "    def circuit(state):\n",
    "        opt.amplitude_embedding(\n",
    "            state_vector=state, wires=range(num_qubits)\n",
    "        )\n",
    "        return qml.state()\n",
    "\n",
    "    res = circuit(state)\n",
    "\n",
    "    np.testing.assert_approx_equal(\n",
    "        np.abs(np.vdot(state, res)), 1.0\n",
    "    )  # If this fails, the state is not equal up to a global phase\n",
    "\n",
    "    specs_func = qml.specs(circuit)\n",
    "    print(\"num_qubits:\", num_qubits, \"depth:\", specs_func(state)[\"resources\"].depth)"
   ]
  },
  {
   "cell_type": "code",
   "execution_count": 5,
   "metadata": {},
   "outputs": [
    {
     "name": "stdout",
     "output_type": "stream",
     "text": [
      "num_qubits: 1 depth: 2\n",
      "num_qubits: 2 depth: 7\n",
      "num_qubits: 3 depth: 20\n",
      "num_qubits: 4 depth: 49\n",
      "num_qubits: 5 depth: 110\n",
      "num_qubits: 6 depth: 235\n",
      "num_qubits: 7 depth: 488\n",
      "num_qubits: 8 depth: 997\n",
      "num_qubits: 9 depth: 2018\n",
      "num_qubits: 10 depth: 4063\n",
      "num_qubits: 11 depth: 8156\n"
     ]
    }
   ],
   "source": [
    "import cancel_cnots\n",
    "\n",
    "for num_qubits in range(1, 12):\n",
    "    dev = qml.device(\"lightning.qubit\", wires=num_qubits)\n",
    "\n",
    "    state = np.random.rand(2**num_qubits) + 1j * np.random.rand(2**num_qubits)\n",
    "    state = state / np.linalg.norm(state)\n",
    "\n",
    "    @qml.qnode(dev, expansion_strategy=\"device\")\n",
    "    def circuit(state):\n",
    "        cancel_cnots.amplitude_embedding(\n",
    "            state_vector=state, wires=range(num_qubits)\n",
    "        )\n",
    "        return qml.state()\n",
    "\n",
    "    res = circuit(state)\n",
    "\n",
    "    np.testing.assert_approx_equal(\n",
    "        np.abs(np.vdot(state, res)), 1.0\n",
    "    )  # If this fails, the state is not equal up to a global phase\n",
    "\n",
    "    specs_func = qml.specs(circuit)\n",
    "    print(\"num_qubits:\", num_qubits, \"depth:\", specs_func(state)[\"resources\"].depth)"
   ]
  }
 ],
 "metadata": {
  "kernelspec": {
   "display_name": "qhack2024-amplitude-embedding-IVnwlIaN",
   "language": "python",
   "name": "python3"
  },
  "language_info": {
   "codemirror_mode": {
    "name": "ipython",
    "version": 3
   },
   "file_extension": ".py",
   "mimetype": "text/x-python",
   "name": "python",
   "nbconvert_exporter": "python",
   "pygments_lexer": "ipython3",
   "version": "3.11.7"
  }
 },
 "nbformat": 4,
 "nbformat_minor": 2
}
